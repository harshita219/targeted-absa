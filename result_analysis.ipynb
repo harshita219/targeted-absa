{
  "nbformat": 4,
  "nbformat_minor": 0,
  "metadata": {
    "colab": {
      "name": "result_analysis.ipynb",
      "provenance": [],
      "toc_visible": true
    },
    "kernelspec": {
      "name": "python3",
      "display_name": "Python 3"
    },
    "language_info": {
      "name": "python"
    }
  },
  "cells": [
    {
      "cell_type": "code",
      "execution_count": 1,
      "metadata": {
        "id": "fCmlI8IQ8sRv"
      },
      "outputs": [],
      "source": [
        "import numpy as np\n",
        "import json\n",
        "from collections import Counter"
      ]
    },
    {
      "cell_type": "code",
      "source": [
        "target_entities = ['LOCATION1', 'LOCATION2']\n",
        "aspects         = ['general','price','safety','transit-location']"
      ],
      "metadata": {
        "id": "0DE6eK-KGYjT"
      },
      "execution_count": 2,
      "outputs": []
    },
    {
      "cell_type": "code",
      "source": [
        "with open('/content/drive/My Drive/absa_sentihood/data/sentihood-test.json', 'r') as fp:\n",
        "    test_true = json.load(fp)\n",
        "len(test_true)"
      ],
      "metadata": {
        "colab": {
          "base_uri": "https://localhost:8080/"
        },
        "id": "8OGToBI29Pfv",
        "outputId": "54ba81e4-fe10-4a50-845b-dda023574000"
      },
      "execution_count": 3,
      "outputs": [
        {
          "output_type": "execute_result",
          "data": {
            "text/plain": [
              "1491"
            ]
          },
          "metadata": {},
          "execution_count": 3
        }
      ]
    },
    {
      "cell_type": "code",
      "source": [
        "with open('/content/drive/My Drive/absa_sentihood/preds.jsonl', 'r') as fp:\n",
        "    test_pred = json.load(fp)\n",
        "len(test_pred)"
      ],
      "metadata": {
        "colab": {
          "base_uri": "https://localhost:8080/"
        },
        "id": "WM1tMk4s9PW1",
        "outputId": "d1647543-104d-402f-fef0-fd8f1725cf40"
      },
      "execution_count": 4,
      "outputs": [
        {
          "output_type": "execute_result",
          "data": {
            "text/plain": [
              "1491"
            ]
          },
          "metadata": {},
          "execution_count": 4
        }
      ]
    },
    {
      "cell_type": "code",
      "source": [
        "inexact_matches = []\n",
        "exact_matches = []\n",
        "for sample in test_pred:\n",
        "    if sample['opinions'] != sample['model_pred']:\n",
        "        inexact_matches.append(sample)\n",
        "    else:\n",
        "        exact_matches.append(sample)\n",
        "\n",
        "print(len(inexact_matches), \" predictions did not match all aspect-sentiments exactly.\")\n",
        "print(len(exact_matches), \" predictions matched all aspect-sentiments exactly.\")"
      ],
      "metadata": {
        "colab": {
          "base_uri": "https://localhost:8080/"
        },
        "id": "EGBKBEsM9PLf",
        "outputId": "c968761b-3a02-42c4-daa0-047f99edf37b"
      },
      "execution_count": 5,
      "outputs": [
        {
          "output_type": "stream",
          "name": "stdout",
          "text": [
            "465  predictions did not match all aspect-sentiments exactly.\n",
            "1026  predictions matched all aspect-sentiments exactly.\n"
          ]
        }
      ]
    },
    {
      "cell_type": "code",
      "source": [
        "ctr_correct = Counter()\n",
        "ctr_all = Counter()\n",
        "\n",
        "for sample in test_pred:\n",
        "    for aspect_senti in sample['model_pred']:\n",
        "        if aspect_senti['aspect'] in [a['aspect'] for a in sample['opinions']]:\n",
        "            ctr_correct.update([aspect_senti['aspect']])\n",
        "\n",
        "    for aspect_senti in sample['opinions']:\n",
        "        ctr_all.update([aspect_senti['aspect']])\n",
        "\n",
        "print(\"Number of true_positive detected aspects: \\n\")\n",
        "for asp, num in ctr_correct.items():\n",
        "    print(num, \"out of\", ctr_all[asp], asp)"
      ],
      "metadata": {
        "colab": {
          "base_uri": "https://localhost:8080/"
        },
        "id": "2ENK6DQ6bSqU",
        "outputId": "06f13995-a4e0-4926-a0d4-7f2506a6c180"
      },
      "execution_count": 6,
      "outputs": [
        {
          "output_type": "stream",
          "name": "stdout",
          "text": [
            "Number of true_positive detected aspects: \n",
            "\n",
            "356 out of 586 general\n",
            "101 out of 158 safety\n",
            "214 out of 251 price\n",
            "156 out of 221 transit-location\n"
          ]
        }
      ]
    },
    {
      "cell_type": "code",
      "source": [
        "fp_true_pred_pairs = []\n",
        "fn_true_pred_pairs = []\n",
        "\n",
        "for sample in  inexact_matches:\n",
        "  model_pred = sample['model_pred']\n",
        "  annot_op = sample['opinions']\n",
        "  # Check if extra aspect detected\n",
        "  if len(model_pred) > len(annot_op):\n",
        "    fp_true_pred_pairs.append((annot_op, model_pred))\n",
        "  else:\n",
        "    fn_true_pred_pairs.append((annot_op, model_pred))\n",
        "\n",
        "print(len(fp_true_pred_pairs), \"out of\", len(inexact_matches), \" incorrectly predicted samples have extra aspects detected / are false positives.\")\n",
        "print(len(fn_true_pred_pairs), \"out of\", len(inexact_matches), \" incorrectly predicted samples have missed the true aspects / are false negatives.\")"
      ],
      "metadata": {
        "colab": {
          "base_uri": "https://localhost:8080/"
        },
        "id": "IVq2blOO9PGD",
        "outputId": "dba1ee08-5e25-4c45-cbfd-d89c2a8327d9"
      },
      "execution_count": 11,
      "outputs": [
        {
          "output_type": "stream",
          "name": "stdout",
          "text": [
            "109 out of 465  incorrectly predicted samples have extra aspects detected / are false positives.\n",
            "356 out of 465  incorrectly predicted samples have missed the true aspects / are false negatives.\n"
          ]
        }
      ]
    },
    {
      "cell_type": "code",
      "source": [
        "ctr_false_pos = Counter()\n",
        "\n",
        "for pair in fp_true_pred_pairs:\n",
        "\n",
        "    # create set of tuples because dicts not hashable for finding difference\n",
        "    annot_op = pair[0]\n",
        "    annot_op = set([tuple(i.values()) for i in annot_op])\n",
        "    model_pred = pair[1]\n",
        "    model_pred = set([tuple(i.values()) for i in model_pred])\n",
        "\n",
        "    diff = list(model_pred - annot_op)  # falsely detected\n",
        "    for sample in diff:\n",
        "        ctr_false_pos.update([sample[0]])\n",
        "\n",
        "print(\"Total Number of false positive predictions of aspects: \\n\")  # Number of times these aspects were falsely detected\n",
        "for asp, num in ctr_false_pos.items():\n",
        "    print(num, asp)"
      ],
      "metadata": {
        "colab": {
          "base_uri": "https://localhost:8080/"
        },
        "id": "GqSvasbPnNYk",
        "outputId": "e6cc1323-8dda-468d-a9c4-a5477dca28d0"
      },
      "execution_count": 18,
      "outputs": [
        {
          "output_type": "stream",
          "name": "stdout",
          "text": [
            "Total Number of false positive predictions of aspects: \n",
            "\n",
            "39 general\n",
            "52 transit-location\n",
            "29 price\n",
            "6 safety\n"
          ]
        }
      ]
    },
    {
      "cell_type": "code",
      "source": [
        "ctr_false_neg = Counter()\n",
        "\n",
        "for pair in fn_true_pred_pairs:\n",
        "\n",
        "    # create set of tuples because dicts not hashable for finding difference\n",
        "    annot_op = pair[0]\n",
        "    annot_op = set([tuple(i.values()) for i in annot_op])\n",
        "    model_pred = pair[1]\n",
        "    model_pred = set([tuple(i.values()) for i in model_pred])\n",
        "\n",
        "    diff = list(annot_op - model_pred)  # falsely detected\n",
        "    for sample in diff:\n",
        "        ctr_false_neg.update([sample[0]])\n",
        "\n",
        "print(\"Total Number of false positive predictions of aspects: \\n\")   # Number of times these aspects were missed\n",
        "for asp, num in ctr_false_neg.items():\n",
        "    print(num, asp)"
      ],
      "metadata": {
        "colab": {
          "base_uri": "https://localhost:8080/"
        },
        "id": "081RzzBRpp_M",
        "outputId": "e58461e0-d6bb-4e6e-c4da-aa302dfda1d3"
      },
      "execution_count": 20,
      "outputs": [
        {
          "output_type": "stream",
          "name": "stdout",
          "text": [
            "Total Number of false positive predictions of aspects: \n",
            "\n",
            "259 general\n",
            "73 price\n",
            "87 transit-location\n",
            "65 safety\n"
          ]
        }
      ]
    },
    {
      "cell_type": "code",
      "source": [
        ""
      ],
      "metadata": {
        "id": "Q6Fv8_Sp9O50"
      },
      "execution_count": 9,
      "outputs": []
    }
  ]
}