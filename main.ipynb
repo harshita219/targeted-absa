{
  "cells": [
    {
      "cell_type": "code",
      "source": [
        "from google.colab import drive\n",
        "drive.mount('/content/drive')"
      ],
      "metadata": {
        "colab": {
          "base_uri": "https://localhost:8080/"
        },
        "id": "rADp089ZFhoW",
        "outputId": "7ff5343c-9be1-4160-d63c-2202d6bb0a15"
      },
      "execution_count": 1,
      "outputs": [
        {
          "output_type": "stream",
          "name": "stdout",
          "text": [
            "Mounted at /content/drive\n"
          ]
        }
      ]
    },
    {
      "cell_type": "code",
      "source": [
        "!pip install transformers\n",
        "!pip install tensorflow_addons"
      ],
      "metadata": {
        "colab": {
          "base_uri": "https://localhost:8080/"
        },
        "id": "_bnHXRP8zO_r",
        "outputId": "175aa3ed-3c56-4754-863b-d3d52a34e6d9"
      },
      "execution_count": 2,
      "outputs": [
        {
          "output_type": "stream",
          "name": "stdout",
          "text": [
            "Collecting transformers\n",
            "  Downloading transformers-4.17.0-py3-none-any.whl (3.8 MB)\n",
            "\u001b[K     |████████████████████████████████| 3.8 MB 5.3 MB/s \n",
            "\u001b[?25hCollecting tokenizers!=0.11.3,>=0.11.1\n",
            "  Downloading tokenizers-0.11.6-cp37-cp37m-manylinux_2_12_x86_64.manylinux2010_x86_64.whl (6.5 MB)\n",
            "\u001b[K     |████████████████████████████████| 6.5 MB 55.3 MB/s \n",
            "\u001b[?25hRequirement already satisfied: packaging>=20.0 in /usr/local/lib/python3.7/dist-packages (from transformers) (21.3)\n",
            "Requirement already satisfied: numpy>=1.17 in /usr/local/lib/python3.7/dist-packages (from transformers) (1.21.5)\n",
            "Requirement already satisfied: importlib-metadata in /usr/local/lib/python3.7/dist-packages (from transformers) (4.11.2)\n",
            "Requirement already satisfied: filelock in /usr/local/lib/python3.7/dist-packages (from transformers) (3.6.0)\n",
            "Requirement already satisfied: tqdm>=4.27 in /usr/local/lib/python3.7/dist-packages (from transformers) (4.63.0)\n",
            "Requirement already satisfied: regex!=2019.12.17 in /usr/local/lib/python3.7/dist-packages (from transformers) (2019.12.20)\n",
            "Collecting huggingface-hub<1.0,>=0.1.0\n",
            "  Downloading huggingface_hub-0.4.0-py3-none-any.whl (67 kB)\n",
            "\u001b[K     |████████████████████████████████| 67 kB 4.9 MB/s \n",
            "\u001b[?25hCollecting pyyaml>=5.1\n",
            "  Downloading PyYAML-6.0-cp37-cp37m-manylinux_2_5_x86_64.manylinux1_x86_64.manylinux_2_12_x86_64.manylinux2010_x86_64.whl (596 kB)\n",
            "\u001b[K     |████████████████████████████████| 596 kB 41.6 MB/s \n",
            "\u001b[?25hCollecting sacremoses\n",
            "  Downloading sacremoses-0.0.47-py2.py3-none-any.whl (895 kB)\n",
            "\u001b[K     |████████████████████████████████| 895 kB 56.5 MB/s \n",
            "\u001b[?25hRequirement already satisfied: requests in /usr/local/lib/python3.7/dist-packages (from transformers) (2.23.0)\n",
            "Requirement already satisfied: typing-extensions>=3.7.4.3 in /usr/local/lib/python3.7/dist-packages (from huggingface-hub<1.0,>=0.1.0->transformers) (3.10.0.2)\n",
            "Requirement already satisfied: pyparsing!=3.0.5,>=2.0.2 in /usr/local/lib/python3.7/dist-packages (from packaging>=20.0->transformers) (3.0.7)\n",
            "Requirement already satisfied: zipp>=0.5 in /usr/local/lib/python3.7/dist-packages (from importlib-metadata->transformers) (3.7.0)\n",
            "Requirement already satisfied: chardet<4,>=3.0.2 in /usr/local/lib/python3.7/dist-packages (from requests->transformers) (3.0.4)\n",
            "Requirement already satisfied: urllib3!=1.25.0,!=1.25.1,<1.26,>=1.21.1 in /usr/local/lib/python3.7/dist-packages (from requests->transformers) (1.24.3)\n",
            "Requirement already satisfied: certifi>=2017.4.17 in /usr/local/lib/python3.7/dist-packages (from requests->transformers) (2021.10.8)\n",
            "Requirement already satisfied: idna<3,>=2.5 in /usr/local/lib/python3.7/dist-packages (from requests->transformers) (2.10)\n",
            "Requirement already satisfied: joblib in /usr/local/lib/python3.7/dist-packages (from sacremoses->transformers) (1.1.0)\n",
            "Requirement already satisfied: click in /usr/local/lib/python3.7/dist-packages (from sacremoses->transformers) (7.1.2)\n",
            "Requirement already satisfied: six in /usr/local/lib/python3.7/dist-packages (from sacremoses->transformers) (1.15.0)\n",
            "Installing collected packages: pyyaml, tokenizers, sacremoses, huggingface-hub, transformers\n",
            "  Attempting uninstall: pyyaml\n",
            "    Found existing installation: PyYAML 3.13\n",
            "    Uninstalling PyYAML-3.13:\n",
            "      Successfully uninstalled PyYAML-3.13\n",
            "Successfully installed huggingface-hub-0.4.0 pyyaml-6.0 sacremoses-0.0.47 tokenizers-0.11.6 transformers-4.17.0\n",
            "Collecting tensorflow_addons\n",
            "  Downloading tensorflow_addons-0.16.1-cp37-cp37m-manylinux_2_12_x86_64.manylinux2010_x86_64.whl (1.1 MB)\n",
            "\u001b[K     |████████████████████████████████| 1.1 MB 5.4 MB/s \n",
            "\u001b[?25hRequirement already satisfied: typeguard>=2.7 in /usr/local/lib/python3.7/dist-packages (from tensorflow_addons) (2.7.1)\n",
            "Installing collected packages: tensorflow-addons\n",
            "Successfully installed tensorflow-addons-0.16.1\n"
          ]
        }
      ]
    },
    {
      "cell_type": "code",
      "execution_count": 3,
      "metadata": {
        "id": "E_PYXtFm02Y_"
      },
      "outputs": [],
      "source": [
        "import json\n",
        "import os\n",
        "import random\n",
        "from tqdm import tqdm\n",
        "import numpy as np\n",
        "import pandas as pd\n",
        "import matplotlib.pyplot as plt\n",
        "\n",
        "import tensorflow as tf\n",
        "import tensorflow_addons as tfa\n",
        "import keras\n",
        "import keras.layers as layers\n",
        "from keras.utils.vis_utils import plot_model\n",
        "from keras.callbacks import ModelCheckpoint\n",
        "from transformers import BertTokenizer, TFBertModel\n",
        "\n",
        "seed_value = 42\n",
        "os.environ['PYTHONHASHSEED'] = str(seed_value)\n",
        "random.seed(seed_value)\n",
        "np.random.seed(seed_value)\n",
        "tf.random.set_seed(seed_value)"
      ]
    },
    {
      "cell_type": "code",
      "source": [
        "df_train = pd.read_csv('/content/drive/My Drive/absa_sentihood/data/df_train.csv')\n",
        "df_val = pd.read_csv('/content/drive/My Drive/absa_sentihood/data/df_val.csv')\n",
        "df_test = pd.read_csv('/content/drive/My Drive/absa_sentihood/data/df_test.csv')"
      ],
      "metadata": {
        "id": "q0gJwH8Ryfe1"
      },
      "execution_count": 4,
      "outputs": []
    },
    {
      "cell_type": "code",
      "source": [
        "target_entities = ['LOCATION1', 'LOCATION2']\n",
        "aspects = ['general','price','safety','transit-location']"
      ],
      "metadata": {
        "id": "d9u-UAIF9vm4"
      },
      "execution_count": 5,
      "outputs": []
    },
    {
      "cell_type": "markdown",
      "source": [
        "Number of words"
      ],
      "metadata": {
        "id": "uE3xOYz4jZ7e"
      }
    },
    {
      "cell_type": "code",
      "source": [
        "lens = [len(x.split()) for x in df_train[\"text\"].tolist()]\n",
        "plt.hist(lens, 50);\n",
        "np.percentile(np.array(lens), 90)"
      ],
      "metadata": {
        "colab": {
          "base_uri": "https://localhost:8080/",
          "height": 283
        },
        "id": "pOaWPgOc0PKd",
        "outputId": "3e3a7056-7b8a-4ba4-9dbf-2452c4780f8a"
      },
      "execution_count": 6,
      "outputs": [
        {
          "output_type": "execute_result",
          "data": {
            "text/plain": [
              "26.0"
            ]
          },
          "metadata": {},
          "execution_count": 6
        },
        {
          "output_type": "display_data",
          "data": {
            "image/png": "[encoded data removed]",
            "text/plain": [
              "<Figure size 432x288 with 1 Axes>"
            ]
          },
          "metadata": {
            "needs_background": "light"
          }
        }
      ]
    },
    {
      "cell_type": "markdown",
      "source": [
        "### BERT config"
      ],
      "metadata": {
        "id": "wSONFCf5PZEH"
      }
    },
    {
      "cell_type": "code",
      "source": [
        "MAX_SEQ_LEN = int(np.percentile(np.array(lens), 90))\n",
        "BERT_NAME = 'bert-base-uncased'"
      ],
      "metadata": {
        "id": "CSsIAnY5zp7Y"
      },
      "execution_count": 7,
      "outputs": []
    },
    {
      "cell_type": "code",
      "source": [
        "def prepare_bert_input(sentences, seq_len, bert_name):\n",
        "    '''\n",
        "    Function to pre-process and tokenize texts.\n",
        "    Returns input_ids and attention masks for BERT inputs\n",
        "    '''\n",
        "    tokenizer = BertTokenizer.from_pretrained(bert_name)\n",
        "    encodings = tokenizer(sentences.tolist(), truncation=True, padding='max_length', max_length=seq_len, add_special_tokens=True, return_tensors='tf', return_token_type_ids = False, return_attention_mask = True)\n",
        "    input = [np.array(encodings[\"input_ids\"]), np.array(encodings[\"attention_mask\"])]\n",
        "    return input\n",
        "\n",
        "def create_model():\n",
        "    '''\n",
        "    Function to return Model: BERT with classifier\n",
        "    Multi-Task Learning\n",
        "    '''\n",
        "    bert = TFBertModel.from_pretrained(BERT_NAME)\n",
        "\n",
        "    input_ids = layers.Input(shape=(MAX_SEQ_LEN,), dtype=tf.int32, name='input_ids')\n",
        "    input_mask = layers.Input(shape=(MAX_SEQ_LEN,), dtype=tf.int32, name='attention_mask')\n",
        "    inputs = [input_ids, input_mask]\n",
        "    \n",
        "    bert_outputs = bert(inputs)[0]\n",
        "    x = layers.GlobalAveragePooling1D()(bert_outputs)\n",
        "\n",
        "    x = layers.Dropout(0.1)(x)\n",
        "    x = layers.Dense(128, activation=\"relu\")(x)\n",
        "    x = layers.Dropout(0.1)(x)\n",
        "\n",
        "    output_general = layers.Dense(3, activation=\"softmax\", name=\"output_general\")(x)\n",
        "    output_price = layers.Dense(3, activation=\"softmax\", name=\"output_price\")(x)\n",
        "    output_safety = layers.Dense(3, activation=\"softmax\", name=\"output_safety\")(x)\n",
        "    output_transit = layers.Dense(3, activation=\"softmax\", name=\"output_transit\")(x)\n",
        "\n",
        "    model = keras.Model(inputs=inputs, outputs=[output_general, output_price, output_safety, output_transit])\n",
        "    model.layers[2].trainable = True\n",
        "\n",
        "    model.summary()\n",
        "    plot_model(model)\n",
        "    return model\n",
        "\n",
        "def fine_tune(model, X_train, x_val, y_train, y_val, max_epochs=3, batch_size=64, lr=5e-05):\n",
        "    '''\n",
        "    Function to fit model\n",
        "    '''\n",
        "    opt = tf.keras.optimizers.Adam(learning_rate=lr)\n",
        "    loss = keras.losses.CategoricalCrossentropy()\n",
        "\n",
        "    best_weights_file = \"weights.h5\"\n",
        "    m_ckpt = ModelCheckpoint(best_weights_file, monitor='val_loss', mode='min', verbose=2, save_weights_only=True, save_best_only=True)\n",
        "\n",
        "    model.compile(loss={\"output_general\":loss, \"output_price\":loss, \"output_safety\":loss, \"output_transit\":loss}, \n",
        "                  optimizer=opt,\n",
        "                  metrics=[tfa.metrics.F1Score(average='macro',num_classes=3),'acc'])\n",
        "    \n",
        "    model.fit(X_train, {\"output_general\":y_train[:, 0], \"output_price\":y_train[:, 1], \"output_safety\":y_train[:, 2], \"output_transit\":y_train[:, 3]},\n",
        "              validation_data =(x_val, {\"output_general\":y_val[:, 0], \"output_price\":y_val[:, 1], \"output_safety\":y_val[:, 2], \"output_transit\":y_val[:, 3]}),\n",
        "              epochs=max_epochs, batch_size=batch_size, callbacks=[m_ckpt], verbose=2)\n",
        "\n",
        "def load_model(lr=5e-05):\n",
        "    model = create_model()\n",
        "    loss = keras.losses.CategoricalCrossentropy()\n",
        "    best_weights_file = \"weights.h5\"\n",
        "    model.load_weights(best_weights_file)\n",
        "    opt = tf.keras.optimizers.Adam(learning_rate=lr)\n",
        "    model.compile(loss={\"output_general\":loss, \"output_price\":loss, \"output_safety\":loss, \"output_transit\":loss}, \n",
        "                  optimizer=opt,\n",
        "                  metrics=[tfa.metrics.F1Score(average='macro',num_classes=3),'acc'])\n",
        "    return model"
      ],
      "metadata": {
        "id": "ZwhOmLyGzwA9"
      },
      "execution_count": 8,
      "outputs": []
    },
    {
      "cell_type": "markdown",
      "source": [
        "## Modeling"
      ],
      "metadata": {
        "id": "_8EhC_RtzzeX"
      }
    },
    {
      "cell_type": "markdown",
      "source": [
        "For training on single-location and double-location tasks\n"
      ],
      "metadata": {
        "id": "2ZkmAbbuyuJV"
      }
    },
    {
      "cell_type": "code",
      "execution_count": null,
      "metadata": {
        "id": "RkFbAIOZ6WSv"
      },
      "outputs": [],
      "source": [
        "# df_train_L1   = df_train[~df_train[\"text\"].str.contains(\"LOCATION2\")]\n",
        "# df_train_L1L2 = df_train[df_train[\"text\"].str.contains(\"LOCATION2\")]\n",
        "\n",
        "# df_val_L1   = df_val[~df_val[\"text\"].str.contains(\"LOCATION2\")]\n",
        "# df_val_L1L2 = df_val[df_val[\"text\"].str.contains(\"LOCATION2\")]\n",
        "\n",
        "# df_test_L1   = df_test[~df_test[\"text\"].str.contains(\"LOCATION2\")]\n",
        "# df_test_L1L2 = df_test[df_test[\"text\"].str.contains(\"LOCATION2\")]"
      ]
    },
    {
      "cell_type": "markdown",
      "source": [
        "For training on Location-1 and Location-2 separately"
      ],
      "metadata": {
        "id": "de_jxH9oyxFV"
      }
    },
    {
      "cell_type": "code",
      "execution_count": 9,
      "metadata": {
        "id": "QpWS7y5mLpno"
      },
      "outputs": [],
      "source": [
        "df_train_L1 = df_train[df_train[\"target_entity\"]==\"LOCATION1\"]\n",
        "df_train_L2 = df_train[df_train[\"target_entity\"]==\"LOCATION2\"]\n",
        "\n",
        "df_val_L1 = df_val[df_val[\"target_entity\"]==\"LOCATION1\"]\n",
        "df_val_L2 = df_val[df_val[\"target_entity\"]==\"LOCATION2\"]\n",
        "\n",
        "df_test_L1 = df_test[df_test[\"target_entity\"]==\"LOCATION1\"]\n",
        "df_test_L2 = df_test[df_test[\"target_entity\"]==\"LOCATION2\"]"
      ]
    },
    {
      "cell_type": "code",
      "execution_count": 10,
      "metadata": {
        "id": "eWhaQreNxgi4"
      },
      "outputs": [],
      "source": [
        "def get_text_labels(df):\n",
        "    '''\n",
        "    Given a dataframe, return three lists containing corresponding ids, texts and labels.\n",
        "    labels are dicts for each text, having keys as aspect name and value as sentiment name\n",
        "    '''\n",
        "    texts = []\n",
        "    ids = []\n",
        "    labels = []\n",
        "\n",
        "    for id, df in df.groupby(\"id\"):\n",
        "        # if not set(df[\"sentiment\"])=={\"None\"}:   # to skip if all aspect sentiments are None\n",
        "        texts.append(df[\"text\"].tolist()[0])\n",
        "        label = dict()\n",
        "        for aspect in aspects:\n",
        "            label[aspect] = df[df[\"aspect\"]==aspect][\"sentiment\"].tolist()[0]\n",
        "        labels.append(label)\n",
        "        ids.append(id)\n",
        "            \n",
        "    return np.asarray(texts), np.asarray(ids), labels"
      ]
    },
    {
      "cell_type": "markdown",
      "source": [
        "One Hot Encode labels"
      ],
      "metadata": {
        "id": "v_KHxl6q5RZT"
      }
    },
    {
      "cell_type": "code",
      "execution_count": 11,
      "metadata": {
        "colab": {
          "base_uri": "https://localhost:8080/"
        },
        "id": "R1qDUW-C205W",
        "outputId": "10582abf-c3d7-4365-ad98-e3ac922a7ad1"
      },
      "outputs": [
        {
          "output_type": "execute_result",
          "data": {
            "text/plain": [
              "OneHotEncoder()"
            ]
          },
          "metadata": {},
          "execution_count": 11
        }
      ],
      "source": [
        "from sklearn.preprocessing import OneHotEncoder\n",
        "enc = OneHotEncoder()\n",
        "enc.fit([\n",
        "         [\"Negative\"], \n",
        "         [\"None\"], \n",
        "         [\"Positive\"]\n",
        "         ])"
      ]
    },
    {
      "cell_type": "markdown",
      "metadata": {
        "id": "oYEiXggPRC64"
      },
      "source": [
        "### Location 1"
      ]
    },
    {
      "cell_type": "markdown",
      "source": [
        "#### Prepare Data\n",
        "1. (train/val/test)_texts: np array containing texts. shape (freq, )\n",
        "2. (train/val/test)_labels: np array containing labels for each text. shape (freq, 4, 3) where 4 is number of aspects and 3 is number of classes."
      ],
      "metadata": {
        "id": "oScGZ0Yr0Y5z"
      }
    },
    {
      "cell_type": "code",
      "execution_count": 12,
      "metadata": {
        "colab": {
          "base_uri": "https://localhost:8080/"
        },
        "id": "PktjvRVFxiko",
        "outputId": "23c59fa1-d040-4cfd-c909-de9635239307"
      },
      "outputs": [
        {
          "output_type": "stream",
          "name": "stdout",
          "text": [
            "steer clear of LOCATION1\n",
            "{'general': 'Negative', 'price': 'None', 'safety': 'None', 'transit-location': 'None'}\n",
            "[[1. 0. 0.]\n",
            " [0. 1. 0.]\n",
            " [0. 1. 0.]\n",
            " [0. 1. 0.]]\n"
          ]
        },
        {
          "output_type": "execute_result",
          "data": {
            "text/plain": [
              "(2977,)"
            ]
          },
          "metadata": {},
          "execution_count": 12
        }
      ],
      "source": [
        "train_texts, train_ids, train_labels = get_text_labels(df_train_L1)\n",
        "\n",
        "# Example\n",
        "print(train_texts[10])\n",
        "print(train_labels[10])\n",
        "\n",
        "labels = []\n",
        "for label_dict in train_labels:\n",
        "    ohe_rep = []\n",
        "    for aspect,sentiment in label_dict.items():\n",
        "        ohe_rep.append(enc.transform([[sentiment]]).toarray().tolist()[0])\n",
        "    labels.append(ohe_rep)\n",
        "train_labels = np.array(labels)\n",
        "\n",
        "# Example\n",
        "print(train_labels[10])\n",
        "\n",
        "train_texts.shape"
      ]
    },
    {
      "cell_type": "code",
      "execution_count": 13,
      "metadata": {
        "colab": {
          "base_uri": "https://localhost:8080/"
        },
        "id": "RViDfShm9A2N",
        "outputId": "3b170e8d-4a15-47cf-b830-bd5e19451659"
      },
      "outputs": [
        {
          "output_type": "execute_result",
          "data": {
            "text/plain": [
              "(747,)"
            ]
          },
          "metadata": {},
          "execution_count": 13
        }
      ],
      "source": [
        "val_texts, val_ids, val_labels = get_text_labels(df_val_L1)\n",
        "labels = []\n",
        "for label_dict in val_labels:\n",
        "    ohe_rep = []\n",
        "    for aspect,sentiment in label_dict.items():\n",
        "        ohe_rep.append(enc.transform([[sentiment]]).toarray().tolist()[0])\n",
        "    labels.append(ohe_rep)\n",
        "val_labels = np.array(labels)\n",
        "val_texts.shape"
      ]
    },
    {
      "cell_type": "code",
      "execution_count": 14,
      "metadata": {
        "colab": {
          "base_uri": "https://localhost:8080/"
        },
        "id": "MeqRJI8I5_qY",
        "outputId": "13c34fcb-260a-45d8-c7b0-fe716ecca3b0"
      },
      "outputs": [
        {
          "output_type": "execute_result",
          "data": {
            "text/plain": [
              "(1491,)"
            ]
          },
          "metadata": {},
          "execution_count": 14
        }
      ],
      "source": [
        "test_texts, test_ids, test_labels = get_text_labels(df_test_L1)\n",
        "labels = []\n",
        "for label_dict in test_labels:\n",
        "    ohe_rep = []\n",
        "    for aspect,sentiment in label_dict.items():\n",
        "        ohe_rep.append(enc.transform([[sentiment]]).toarray().tolist()[0])\n",
        "    labels.append(ohe_rep)\n",
        "test_labels = np.array(labels)\n",
        "test_texts.shape"
      ]
    },
    {
      "cell_type": "code",
      "execution_count": 15,
      "metadata": {
        "id": "_FOEgAF95_ju"
      },
      "outputs": [],
      "source": [
        "del labels"
      ]
    },
    {
      "cell_type": "markdown",
      "source": [
        "#### Training: Classification"
      ],
      "metadata": {
        "id": "8SIOM-etxW3L"
      }
    },
    {
      "cell_type": "code",
      "execution_count": 17,
      "metadata": {
        "colab": {
          "base_uri": "https://localhost:8080/"
        },
        "id": "13L8vivJzjaq",
        "outputId": "a4c35c5a-5ace-4882-b3ea-343cf585609c"
      },
      "outputs": [
        {
          "output_type": "stream",
          "name": "stderr",
          "text": [
            "Some layers from the model checkpoint at bert-base-uncased were not used when initializing TFBertModel: ['nsp___cls', 'mlm___cls']\n",
            "- This IS expected if you are initializing TFBertModel from the checkpoint of a model trained on another task or with another architecture (e.g. initializing a BertForSequenceClassification model from a BertForPreTraining model).\n",
            "- This IS NOT expected if you are initializing TFBertModel from the checkpoint of a model that you expect to be exactly identical (initializing a BertForSequenceClassification model from a BertForSequenceClassification model).\n",
            "All the layers of TFBertModel were initialized from the model checkpoint at bert-base-uncased.\n",
            "If your task is similar to the task the model of the checkpoint was trained on, you can already use TFBertModel for predictions without further training.\n"
          ]
        },
        {
          "output_type": "stream",
          "name": "stdout",
          "text": [
            "Model: \"model_1\"\n",
            "__________________________________________________________________________________________________\n",
            " Layer (type)                   Output Shape         Param #     Connected to                     \n",
            "==================================================================================================\n",
            " input_ids (InputLayer)         [(None, 26)]         0           []                               \n",
            "                                                                                                  \n",
            " attention_mask (InputLayer)    [(None, 26)]         0           []                               \n",
            "                                                                                                  \n",
            " tf_bert_model_1 (TFBertModel)  TFBaseModelOutputWi  109482240   ['input_ids[0][0]',              \n",
            "                                thPoolingAndCrossAt               'attention_mask[0][0]']         \n",
            "                                tentions(last_hidde                                               \n",
            "                                n_state=(None, 26,                                                \n",
            "                                768),                                                             \n",
            "                                 pooler_output=(Non                                               \n",
            "                                e, 768),                                                          \n",
            "                                 past_key_values=No                                               \n",
            "                                ne, hidden_states=N                                               \n",
            "                                one, attentions=Non                                               \n",
            "                                e, cross_attentions                                               \n",
            "                                =None)                                                            \n",
            "                                                                                                  \n",
            " global_average_pooling1d_1 (Gl  (None, 768)         0           ['tf_bert_model_1[0][0]']        \n",
            " obalAveragePooling1D)                                                                            \n",
            "                                                                                                  \n",
            " dropout_76 (Dropout)           (None, 768)          0           ['global_average_pooling1d_1[0][0\n",
            "                                                                 ]']                              \n",
            "                                                                                                  \n",
            " dense_1 (Dense)                (None, 128)          98432       ['dropout_76[0][0]']             \n",
            "                                                                                                  \n",
            " dropout_77 (Dropout)           (None, 128)          0           ['dense_1[0][0]']                \n",
            "                                                                                                  \n",
            " output_general (Dense)         (None, 3)            387         ['dropout_77[0][0]']             \n",
            "                                                                                                  \n",
            " output_price (Dense)           (None, 3)            387         ['dropout_77[0][0]']             \n",
            "                                                                                                  \n",
            " output_safety (Dense)          (None, 3)            387         ['dropout_77[0][0]']             \n",
            "                                                                                                  \n",
            " output_transit (Dense)         (None, 3)            387         ['dropout_77[0][0]']             \n",
            "                                                                                                  \n",
            "==================================================================================================\n",
            "Total params: 109,582,220\n",
            "Trainable params: 109,582,220\n",
            "Non-trainable params: 0\n",
            "__________________________________________________________________________________________________\n",
            "Epoch 1/3\n",
            "WARNING:tensorflow:Gradients do not exist for variables ['tf_bert_model_1/bert/pooler/dense/kernel:0', 'tf_bert_model_1/bert/pooler/dense/bias:0'] when minimizing the loss. If you're using `model.compile()`, did you forget to provide a `loss`argument?\n",
            "WARNING:tensorflow:Gradients do not exist for variables ['tf_bert_model_1/bert/pooler/dense/kernel:0', 'tf_bert_model_1/bert/pooler/dense/bias:0'] when minimizing the loss. If you're using `model.compile()`, did you forget to provide a `loss`argument?\n",
            "\n",
            "Epoch 1: val_loss improved from -inf to 1.05829, saving model to weights.h5\n",
            "47/47 - 872s - loss: 1.8584 - output_general_loss: 0.7111 - output_price_loss: 0.3918 - output_safety_loss: 0.3538 - output_transit_loss: 0.4017 - output_general_f1_score: 0.4429 - output_general_acc: 0.7051 - output_price_f1_score: 0.4916 - output_price_acc: 0.8700 - output_safety_f1_score: 0.4006 - output_safety_acc: 0.8932 - output_transit_f1_score: 0.4220 - output_transit_acc: 0.8670 - val_loss: 1.0583 - val_output_general_loss: 0.4422 - val_output_price_loss: 0.1722 - val_output_safety_loss: 0.1507 - val_output_transit_loss: 0.2932 - val_output_general_f1_score: 0.6022 - val_output_general_acc: 0.8206 - val_output_price_f1_score: 0.7857 - val_output_price_acc: 0.9491 - val_output_safety_f1_score: 0.6806 - val_output_safety_acc: 0.9478 - val_output_transit_f1_score: 0.5277 - val_output_transit_acc: 0.8942 - 872s/epoch - 19s/step\n",
            "Epoch 2/3\n",
            "\n",
            "Epoch 2: val_loss improved from -inf to 0.8469, saving model to weights.h5\n",
            "47/47 - 858s - loss: 0.9554 - output_general_loss: 0.3983 - output_price_loss: 0.1754 - output_safety_loss: 0.1593 - output_transit_loss: 0.2224 - output_general_f1_score: 0.7485 - output_general_acc: 0.8465 - output_price_f1_score: 0.7820 - output_price_acc: 0.9412 - output_safety_f1_score: 0.7078 - output_safety_acc: 0.9436 - output_transit_f1_score: 0.5990 - output_transit_acc: 0.9271 - val_loss: 0.8469 - val_output_general_loss: 0.3439 - val_output_price_loss: 0.1544 - val_output_safety_loss: 0.1168 - val_output_transit_loss: 0.2317 - val_output_general_f1_score: 0.8018 - val_output_general_acc: 0.8768 - val_output_price_f1_score: 0.8063 - val_output_price_acc: 0.9558 - val_output_safety_f1_score: 0.8066 - val_output_safety_acc: 0.9665 - val_output_transit_f1_score: 0.6626 - val_output_transit_acc: 0.9090 - 858s/epoch - 18s/step\n",
            "Epoch 3/3\n",
            "\n",
            "Epoch 3: val_loss did not improve from 0.8469\n",
            "47/47 - 853s - loss: 0.5689 - output_general_loss: 0.2162 - output_price_loss: 0.1206 - output_safety_loss: 0.0932 - output_transit_loss: 0.1389 - output_general_f1_score: 0.8870 - output_general_acc: 0.9231 - output_price_f1_score: 0.8666 - output_price_acc: 0.9637 - output_safety_f1_score: 0.8467 - output_safety_acc: 0.9694 - output_transit_f1_score: 0.7923 - output_transit_acc: 0.9543 - val_loss: 0.9278 - val_output_general_loss: 0.4092 - val_output_price_loss: 0.1412 - val_output_safety_loss: 0.1333 - val_output_transit_loss: 0.2441 - val_output_general_f1_score: 0.7518 - val_output_general_acc: 0.8527 - val_output_price_f1_score: 0.8171 - val_output_price_acc: 0.9585 - val_output_safety_f1_score: 0.8024 - val_output_safety_acc: 0.9639 - val_output_transit_f1_score: 0.6402 - val_output_transit_acc: 0.9076 - 853s/epoch - 18s/step\n"
          ]
        }
      ],
      "source": [
        "X_train = prepare_bert_input(train_texts, MAX_SEQ_LEN, BERT_NAME)\n",
        "X_val = prepare_bert_input(val_texts, MAX_SEQ_LEN, BERT_NAME)\n",
        "X_test = prepare_bert_input(test_texts, MAX_SEQ_LEN, BERT_NAME)\n",
        "\n",
        "y_train = train_labels\n",
        "y_val = val_labels\n",
        "y_test = test_labels\n",
        "\n",
        "model_1 = create_model()\n",
        "\n",
        "fine_tune(model_1, X_train, X_val, y_train, y_val, max_epochs=3, batch_size=64)"
      ]
    },
    {
      "cell_type": "code",
      "execution_count": 18,
      "metadata": {
        "id": "XbXGNwm9X_C3",
        "colab": {
          "base_uri": "https://localhost:8080/"
        },
        "outputId": "fbfe785b-8cf9-4478-d84b-040234bb12f7"
      },
      "outputs": [
        {
          "output_type": "stream",
          "name": "stdout",
          "text": [
            "47/47 [==============================] - 123s 3s/step - loss: 1.0235 - output_general_loss: 0.5008 - output_price_loss: 0.1619 - output_safety_loss: 0.1322 - output_transit_loss: 0.2286 - output_general_f1_score: 0.7385 - output_general_acc: 0.8384 - output_price_f1_score: 0.8202 - output_price_acc: 0.9497 - output_safety_f1_score: 0.8236 - output_safety_acc: 0.9651 - output_transit_f1_score: 0.6037 - output_transit_acc: 0.9188\n"
          ]
        }
      ],
      "source": [
        "model_1_metric_vals = model_1.evaluate(X_test, {\"output_general\":y_test[:, 0], \"output_price\":y_test[:, 1], \"output_safety\":y_test[:, 2], \"output_transit\":y_test[:, 3]}, batch_size=32)"
      ]
    },
    {
      "cell_type": "code",
      "source": [
        "model_1_perf = {k:v for k,v in zip(model_1.metrics_names, model_1_metric_vals)}\n",
        "model_1_perf"
      ],
      "metadata": {
        "id": "XWLR5dDbCng-",
        "colab": {
          "base_uri": "https://localhost:8080/"
        },
        "outputId": "3a7cffdb-5d06-4cd2-fb8b-42a8b29eab36"
      },
      "execution_count": 19,
      "outputs": [
        {
          "output_type": "execute_result",
          "data": {
            "text/plain": [
              "{'loss': 1.0235340595245361,\n",
              " 'output_general_acc': 0.838363528251648,\n",
              " 'output_general_f1_score': 0.738513708114624,\n",
              " 'output_general_loss': 0.5007959008216858,\n",
              " 'output_price_acc': 0.9496982097625732,\n",
              " 'output_price_f1_score': 0.8201643824577332,\n",
              " 'output_price_loss': 0.16193678975105286,\n",
              " 'output_safety_acc': 0.9651240706443787,\n",
              " 'output_safety_f1_score': 0.8235567212104797,\n",
              " 'output_safety_loss': 0.13218432664871216,\n",
              " 'output_transit_acc': 0.9188464283943176,\n",
              " 'output_transit_f1_score': 0.6037495732307434,\n",
              " 'output_transit_loss': 0.22861720621585846}"
            ]
          },
          "metadata": {},
          "execution_count": 19
        }
      ]
    },
    {
      "cell_type": "markdown",
      "source": [
        "#### Predict on Test"
      ],
      "metadata": {
        "id": "JCiUOh8rA9kV"
      }
    },
    {
      "cell_type": "code",
      "execution_count": 20,
      "metadata": {
        "id": "-Km3YfrZ4KUu"
      },
      "outputs": [],
      "source": [
        "# model_1 = load_model()\n",
        "predictions = model_1.predict(X_test)\n",
        "predictions = np.array(predictions)\n",
        "predictions = np.array([predictions[:,i] for i in range(predictions.shape[1])])"
      ]
    },
    {
      "cell_type": "code",
      "execution_count": 21,
      "metadata": {
        "id": "aHlUvWfcolgA"
      },
      "outputs": [],
      "source": [
        "test_preds = []\n",
        "for i in range(predictions.shape[0]):\n",
        "    preds = np.argmax(predictions[i], axis=1)\n",
        "    ohe_preds = np.zeros((predictions[i].shape[0], 3))\n",
        "    ohe_preds[np.arange(ohe_preds.shape[0]), preds] = 1\n",
        "    test_preds.append(ohe_preds)\n",
        "test_preds = np.array(test_preds)"
      ]
    },
    {
      "cell_type": "code",
      "execution_count": 22,
      "metadata": {
        "id": "jbKRr7K7bnBT"
      },
      "outputs": [],
      "source": [
        "output_json_L1 = []\n",
        "\n",
        "for i in range(test_ids.shape[0]):\n",
        "    sample = {}\n",
        "    sample[\"id\"] = int(test_ids[i])\n",
        "    sample[\"text\"] = test_texts[i]\n",
        "    opinions = []\n",
        "    true_labels = enc.inverse_transform(test_labels[i])\n",
        "    for j,aspect in enumerate(aspects):\n",
        "        if true_labels[j][0]!='None':\n",
        "            opinions.append({'aspect':aspect,\n",
        "                             'sentiment':true_labels[j][0],\n",
        "                             'target_entity':'LOCATION1'})\n",
        "    model_pred = []\n",
        "    pred_labels = enc.inverse_transform(test_preds[i])\n",
        "    for j,aspect in enumerate(aspects):\n",
        "        if pred_labels[j][0]!='None':\n",
        "            model_pred.append({'aspect':aspect,\n",
        "                             'sentiment':pred_labels[j][0],\n",
        "                             'target_entity':'LOCATION1'})\n",
        "    sample[\"opinions\"] = opinions\n",
        "    sample[\"model_pred\"] = model_pred\n",
        "\n",
        "    output_json_L1.append(sample)"
      ]
    },
    {
      "cell_type": "code",
      "execution_count": 23,
      "metadata": {
        "id": "s-rcSgi4ZCtM"
      },
      "outputs": [],
      "source": [
        "# with open(\"output_json_L1.json\", \"w\") as f:\n",
        "#     json.dump(output_json_L1, f)"
      ]
    },
    {
      "cell_type": "code",
      "source": [
        "output_json_L1[52]"
      ],
      "metadata": {
        "id": "yfjUmFkFXnU_",
        "colab": {
          "base_uri": "https://localhost:8080/"
        },
        "outputId": "d1417c43-0b08-4dba-93c8-e52a42e10e65"
      },
      "execution_count": 24,
      "outputs": [
        {
          "output_type": "execute_result",
          "data": {
            "text/plain": [
              "{'id': 52,\n",
              " 'model_pred': [{'aspect': 'general',\n",
              "   'sentiment': 'Negative',\n",
              "   'target_entity': 'LOCATION1'}],\n",
              " 'opinions': [{'aspect': 'general',\n",
              "   'sentiment': 'Negative',\n",
              "   'target_entity': 'LOCATION1'}],\n",
              " 'text': 'LOCATION1  which is a craphole keep clear'}"
            ]
          },
          "metadata": {},
          "execution_count": 24
        }
      ]
    },
    {
      "cell_type": "code",
      "execution_count": null,
      "metadata": {
        "id": "JqcLT-RVZCnk"
      },
      "outputs": [],
      "source": [
        ""
      ]
    },
    {
      "cell_type": "markdown",
      "metadata": {
        "id": "1FKIavEE0lyL"
      },
      "source": [
        "### Location 2"
      ]
    },
    {
      "cell_type": "markdown",
      "source": [
        "#### Prepare Data\n",
        "1. (train/val/test)_texts: np array containing texts. shape (freq, )\n",
        "2. (train/val/test)_labels: np array containing labels for each text. shape (freq, 4, 3) where 4 is number of aspects and 3 is number of classes."
      ],
      "metadata": {
        "id": "9F55o7jD0lyM"
      }
    },
    {
      "cell_type": "code",
      "execution_count": 25,
      "metadata": {
        "id": "GZwFgzFD0lyM",
        "colab": {
          "base_uri": "https://localhost:8080/"
        },
        "outputId": "190d08a8-a1f3-432f-fb4b-ebe88dc30a4e"
      },
      "outputs": [
        {
          "output_type": "stream",
          "name": "stdout",
          "text": [
            "I've never been to LOCATION2, so don't know about that one  LOCATION1\n",
            "{'general': 'None', 'price': 'None', 'safety': 'None', 'transit-location': 'None'}\n",
            "[[0. 1. 0.]\n",
            " [0. 1. 0.]\n",
            " [0. 1. 0.]\n",
            " [0. 1. 0.]]\n"
          ]
        },
        {
          "output_type": "execute_result",
          "data": {
            "text/plain": [
              "(775,)"
            ]
          },
          "metadata": {},
          "execution_count": 25
        }
      ],
      "source": [
        "train_texts_2, train_ids_2, train_labels_2 = get_text_labels(df_train_L2)\n",
        "\n",
        "# Example\n",
        "print(train_texts_2[10])\n",
        "print(train_labels_2[10])\n",
        "\n",
        "labels = []\n",
        "for label_dict in train_labels_2:\n",
        "    ohe_rep = []\n",
        "    for aspect,sentiment in label_dict.items():\n",
        "        ohe_rep.append(enc.transform([[sentiment]]).toarray().tolist()[0])\n",
        "    labels.append(ohe_rep)\n",
        "train_labels_2 = np.array(labels)\n",
        "\n",
        "# Example\n",
        "print(train_labels_2[10])\n",
        "\n",
        "train_texts_2.shape"
      ]
    },
    {
      "cell_type": "code",
      "execution_count": 26,
      "metadata": {
        "id": "egA1uSYJ0lyN",
        "colab": {
          "base_uri": "https://localhost:8080/"
        },
        "outputId": "4ebda8b7-d566-4d3e-de43-76760834fd77"
      },
      "outputs": [
        {
          "output_type": "execute_result",
          "data": {
            "text/plain": [
              "(190,)"
            ]
          },
          "metadata": {},
          "execution_count": 26
        }
      ],
      "source": [
        "val_texts_2, val_ids_2, val_labels_2 = get_text_labels(df_val_L2)\n",
        "labels = []\n",
        "for label_dict in val_labels_2:\n",
        "    ohe_rep = []\n",
        "    for aspect,sentiment in label_dict.items():\n",
        "        ohe_rep.append(enc.transform([[sentiment]]).toarray().tolist()[0])\n",
        "    labels.append(ohe_rep)\n",
        "val_labels_2 = np.array(labels)\n",
        "val_texts_2.shape"
      ]
    },
    {
      "cell_type": "code",
      "execution_count": 27,
      "metadata": {
        "id": "EWIT58AA0lyN",
        "colab": {
          "base_uri": "https://localhost:8080/"
        },
        "outputId": "9ef66060-dfc3-4340-b297-80d13725a8ae"
      },
      "outputs": [
        {
          "output_type": "execute_result",
          "data": {
            "text/plain": [
              "(388,)"
            ]
          },
          "metadata": {},
          "execution_count": 27
        }
      ],
      "source": [
        "test_texts_2, test_ids_2, test_labels_2 = get_text_labels(df_test_L2)\n",
        "labels = []\n",
        "for label_dict in test_labels_2:\n",
        "    ohe_rep = []\n",
        "    for aspect,sentiment in label_dict.items():\n",
        "        ohe_rep.append(enc.transform([[sentiment]]).toarray().tolist()[0])\n",
        "    labels.append(ohe_rep)\n",
        "test_labels_2 = np.array(labels)\n",
        "test_texts_2.shape"
      ]
    },
    {
      "cell_type": "code",
      "execution_count": 28,
      "metadata": {
        "id": "0jtdcA620lyN"
      },
      "outputs": [],
      "source": [
        "del labels"
      ]
    },
    {
      "cell_type": "markdown",
      "source": [
        "#### Training: Classification"
      ],
      "metadata": {
        "id": "mkcD38k70lyO"
      }
    },
    {
      "cell_type": "code",
      "execution_count": 29,
      "metadata": {
        "id": "h8E00zyV0lyO",
        "colab": {
          "base_uri": "https://localhost:8080/"
        },
        "outputId": "574af890-c81b-4f68-ab0a-268c60c8c406"
      },
      "outputs": [
        {
          "output_type": "stream",
          "name": "stderr",
          "text": [
            "Some layers from the model checkpoint at bert-base-uncased were not used when initializing TFBertModel: ['nsp___cls', 'mlm___cls']\n",
            "- This IS expected if you are initializing TFBertModel from the checkpoint of a model trained on another task or with another architecture (e.g. initializing a BertForSequenceClassification model from a BertForPreTraining model).\n",
            "- This IS NOT expected if you are initializing TFBertModel from the checkpoint of a model that you expect to be exactly identical (initializing a BertForSequenceClassification model from a BertForSequenceClassification model).\n",
            "All the layers of TFBertModel were initialized from the model checkpoint at bert-base-uncased.\n",
            "If your task is similar to the task the model of the checkpoint was trained on, you can already use TFBertModel for predictions without further training.\n"
          ]
        },
        {
          "output_type": "stream",
          "name": "stdout",
          "text": [
            "Model: \"model_2\"\n",
            "__________________________________________________________________________________________________\n",
            " Layer (type)                   Output Shape         Param #     Connected to                     \n",
            "==================================================================================================\n",
            " input_ids (InputLayer)         [(None, 26)]         0           []                               \n",
            "                                                                                                  \n",
            " attention_mask (InputLayer)    [(None, 26)]         0           []                               \n",
            "                                                                                                  \n",
            " tf_bert_model_2 (TFBertModel)  TFBaseModelOutputWi  109482240   ['input_ids[0][0]',              \n",
            "                                thPoolingAndCrossAt               'attention_mask[0][0]']         \n",
            "                                tentions(last_hidde                                               \n",
            "                                n_state=(None, 26,                                                \n",
            "                                768),                                                             \n",
            "                                 pooler_output=(Non                                               \n",
            "                                e, 768),                                                          \n",
            "                                 past_key_values=No                                               \n",
            "                                ne, hidden_states=N                                               \n",
            "                                one, attentions=Non                                               \n",
            "                                e, cross_attentions                                               \n",
            "                                =None)                                                            \n",
            "                                                                                                  \n",
            " global_average_pooling1d_2 (Gl  (None, 768)         0           ['tf_bert_model_2[0][0]']        \n",
            " obalAveragePooling1D)                                                                            \n",
            "                                                                                                  \n",
            " dropout_115 (Dropout)          (None, 768)          0           ['global_average_pooling1d_2[0][0\n",
            "                                                                 ]']                              \n",
            "                                                                                                  \n",
            " dense_2 (Dense)                (None, 128)          98432       ['dropout_115[0][0]']            \n",
            "                                                                                                  \n",
            " dropout_116 (Dropout)          (None, 128)          0           ['dense_2[0][0]']                \n",
            "                                                                                                  \n",
            " output_general (Dense)         (None, 3)            387         ['dropout_116[0][0]']            \n",
            "                                                                                                  \n",
            " output_price (Dense)           (None, 3)            387         ['dropout_116[0][0]']            \n",
            "                                                                                                  \n",
            " output_safety (Dense)          (None, 3)            387         ['dropout_116[0][0]']            \n",
            "                                                                                                  \n",
            " output_transit (Dense)         (None, 3)            387         ['dropout_116[0][0]']            \n",
            "                                                                                                  \n",
            "==================================================================================================\n",
            "Total params: 109,582,220\n",
            "Trainable params: 109,582,220\n",
            "Non-trainable params: 0\n",
            "__________________________________________________________________________________________________\n",
            "Epoch 1/3\n",
            "WARNING:tensorflow:Gradients do not exist for variables ['tf_bert_model_2/bert/pooler/dense/kernel:0', 'tf_bert_model_2/bert/pooler/dense/bias:0'] when minimizing the loss. If you're using `model.compile()`, did you forget to provide a `loss`argument?\n",
            "WARNING:tensorflow:Gradients do not exist for variables ['tf_bert_model_2/bert/pooler/dense/kernel:0', 'tf_bert_model_2/bert/pooler/dense/bias:0'] when minimizing the loss. If you're using `model.compile()`, did you forget to provide a `loss`argument?\n",
            "\n",
            "Epoch 1: val_loss improved from -inf to 1.8171, saving model to weights.h5\n",
            "25/25 - 270s - loss: 2.1448 - output_general_loss: 0.8262 - output_price_loss: 0.5173 - output_safety_loss: 0.4210 - output_transit_loss: 0.3804 - output_general_f1_score: 0.3341 - output_general_acc: 0.6632 - output_price_f1_score: 0.3181 - output_price_acc: 0.8516 - output_safety_f1_score: 0.3147 - output_safety_acc: 0.8942 - output_transit_f1_score: 0.3166 - output_transit_acc: 0.9032 - val_loss: 1.8171 - val_output_general_loss: 0.6882 - val_output_price_loss: 0.3964 - val_output_safety_loss: 0.3830 - val_output_transit_loss: 0.3495 - val_output_general_f1_score: 0.4837 - val_output_general_acc: 0.7421 - val_output_price_f1_score: 0.3138 - val_output_price_acc: 0.8895 - val_output_safety_f1_score: 0.3158 - val_output_safety_acc: 0.9000 - val_output_transit_f1_score: 0.3168 - val_output_transit_acc: 0.9053 - 270s/epoch - 11s/step\n",
            "Epoch 2/3\n",
            "\n",
            "Epoch 2: val_loss improved from -inf to 1.3276, saving model to weights.h5\n",
            "25/25 - 229s - loss: 1.4963 - output_general_loss: 0.5863 - output_price_loss: 0.3333 - output_safety_loss: 0.2927 - output_transit_loss: 0.2839 - output_general_f1_score: 0.5509 - output_general_acc: 0.7639 - output_price_f1_score: 0.4725 - output_price_acc: 0.8890 - output_safety_f1_score: 0.3377 - output_safety_acc: 0.9187 - output_transit_f1_score: 0.3199 - output_transit_acc: 0.9226 - val_loss: 1.3276 - val_output_general_loss: 0.4552 - val_output_price_loss: 0.2818 - val_output_safety_loss: 0.2633 - val_output_transit_loss: 0.3274 - val_output_general_f1_score: 0.6388 - val_output_general_acc: 0.8000 - val_output_price_f1_score: 0.6928 - val_output_price_acc: 0.9053 - val_output_safety_f1_score: 0.3158 - val_output_safety_acc: 0.9000 - val_output_transit_f1_score: 0.3168 - val_output_transit_acc: 0.9053 - 229s/epoch - 9s/step\n",
            "Epoch 3/3\n",
            "\n",
            "Epoch 3: val_loss improved from -inf to 1.2048, saving model to weights.h5\n",
            "25/25 - 237s - loss: 0.9162 - output_general_loss: 0.3378 - output_price_loss: 0.1622 - output_safety_loss: 0.1994 - output_transit_loss: 0.2167 - output_general_f1_score: 0.7765 - output_general_acc: 0.8671 - output_price_f1_score: 0.7501 - output_price_acc: 0.9381 - output_safety_f1_score: 0.5452 - output_safety_acc: 0.9368 - output_transit_f1_score: 0.4302 - output_transit_acc: 0.9252 - val_loss: 1.2048 - val_output_general_loss: 0.4365 - val_output_price_loss: 0.2521 - val_output_safety_loss: 0.2054 - val_output_transit_loss: 0.3108 - val_output_general_f1_score: 0.7498 - val_output_general_acc: 0.8368 - val_output_price_f1_score: 0.6492 - val_output_price_acc: 0.9053 - val_output_safety_f1_score: 0.5719 - val_output_safety_acc: 0.9211 - val_output_transit_f1_score: 0.3602 - val_output_transit_acc: 0.9105 - 237s/epoch - 9s/step\n"
          ]
        }
      ],
      "source": [
        "######### BERT SENTIMENT CLASSIFICATION #########\n",
        "\n",
        "X_train_2 = prepare_bert_input(train_texts_2, MAX_SEQ_LEN, BERT_NAME)\n",
        "X_val_2 = prepare_bert_input(val_texts_2, MAX_SEQ_LEN, BERT_NAME)\n",
        "X_test_2 = prepare_bert_input(test_texts_2, MAX_SEQ_LEN, BERT_NAME)\n",
        "\n",
        "y_train_2 = train_labels_2\n",
        "y_val_2 = val_labels_2\n",
        "y_test_2 = test_labels_2\n",
        "\n",
        "model_2 = create_model()\n",
        "\n",
        "fine_tune(model_2, X_train_2, X_val_2, y_train_2, y_val_2, max_epochs=3, batch_size=32)"
      ]
    },
    {
      "cell_type": "code",
      "execution_count": 30,
      "metadata": {
        "id": "KQAiJjm-0lyO",
        "colab": {
          "base_uri": "https://localhost:8080/"
        },
        "outputId": "5eb5c34b-c89d-4791-9cd1-ee783b7c4e3c"
      },
      "outputs": [
        {
          "output_type": "stream",
          "name": "stdout",
          "text": [
            "13/13 [==============================] - 32s 2s/step - loss: 1.2860 - output_general_loss: 0.5442 - output_price_loss: 0.2215 - output_safety_loss: 0.2190 - output_transit_loss: 0.3012 - output_general_f1_score: 0.6102 - output_general_acc: 0.8119 - output_price_f1_score: 0.6802 - output_price_acc: 0.9098 - output_safety_f1_score: 0.5904 - output_safety_acc: 0.9381 - output_transit_f1_score: 0.4803 - output_transit_acc: 0.9098\n"
          ]
        }
      ],
      "source": [
        "model_2_metric_vals = model_2.evaluate(X_test_2, {\"output_general\":y_test_2[:, 0], \"output_price\":y_test_2[:, 1], \"output_safety\":y_test_2[:, 2], \"output_transit\":y_test_2[:, 3]}, batch_size=32)"
      ]
    },
    {
      "cell_type": "code",
      "source": [
        "model_2_perf = {k:v for k,v in zip(model_2.metrics_names, model_2_metric_vals)}\n",
        "model_2_perf"
      ],
      "metadata": {
        "id": "ZKUKQc94ByNt",
        "colab": {
          "base_uri": "https://localhost:8080/"
        },
        "outputId": "dce2c50b-2dc2-49a4-878d-c487298713cd"
      },
      "execution_count": 31,
      "outputs": [
        {
          "output_type": "execute_result",
          "data": {
            "text/plain": [
              "{'loss': 1.2859824895858765,\n",
              " 'output_general_acc': 0.811855673789978,\n",
              " 'output_general_f1_score': 0.6101882457733154,\n",
              " 'output_general_loss': 0.5442336797714233,\n",
              " 'output_price_acc': 0.9097937941551208,\n",
              " 'output_price_f1_score': 0.680194079875946,\n",
              " 'output_price_loss': 0.22153006494045258,\n",
              " 'output_safety_acc': 0.938144326210022,\n",
              " 'output_safety_f1_score': 0.5904240608215332,\n",
              " 'output_safety_loss': 0.21901924908161163,\n",
              " 'output_transit_acc': 0.9097937941551208,\n",
              " 'output_transit_f1_score': 0.4802957773208618,\n",
              " 'output_transit_loss': 0.30119946599006653}"
            ]
          },
          "metadata": {},
          "execution_count": 31
        }
      ]
    },
    {
      "cell_type": "markdown",
      "source": [
        "#### Predict on Test"
      ],
      "metadata": {
        "id": "XV8lsPx5BMBS"
      }
    },
    {
      "cell_type": "code",
      "execution_count": 32,
      "metadata": {
        "id": "h61MH1Zw0lyO"
      },
      "outputs": [],
      "source": [
        "# model_2 = load_model()\n",
        "predictions_2 = model_2.predict(X_test_2)\n",
        "predictions_2 = np.array(predictions_2)\n",
        "predictions_2 = np.array([predictions_2[:,i] for i in range(predictions_2.shape[1])])"
      ]
    },
    {
      "cell_type": "code",
      "execution_count": 33,
      "metadata": {
        "id": "roIwsif20lyP"
      },
      "outputs": [],
      "source": [
        "test_preds_2 = []\n",
        "for i in range(predictions_2.shape[0]):\n",
        "    preds = np.argmax(predictions_2[i], axis=1)\n",
        "    ohe_preds = np.zeros((predictions_2[i].shape[0], 3))\n",
        "    ohe_preds[np.arange(ohe_preds.shape[0]), preds] = 1\n",
        "    test_preds_2.append(ohe_preds)\n",
        "test_preds_2 = np.array(test_preds_2)"
      ]
    },
    {
      "cell_type": "markdown",
      "source": [
        "## Create pred.jsonl"
      ],
      "metadata": {
        "id": "n74Wo9q5At9J"
      }
    },
    {
      "cell_type": "code",
      "execution_count": 34,
      "metadata": {
        "id": "VdDuI3U_0lyP"
      },
      "outputs": [],
      "source": [
        "for i in range(test_ids_2.shape[0]):\n",
        "    index = next((index for (index, d) in enumerate(output_json_L1) if d[\"id\"] == int(test_ids_2[i])), None)\n",
        "    if index:\n",
        "        opinions = []\n",
        "        true_labels = enc.inverse_transform(test_labels_2[i])\n",
        "        for j,aspect in enumerate(aspects):\n",
        "            if true_labels[j][0]!='None':\n",
        "                opinions.append({'aspect':aspect,\n",
        "                                'sentiment':true_labels[j][0],\n",
        "                                'target_entity':'LOCATION2'})\n",
        "        model_pred = []\n",
        "        pred_labels = enc.inverse_transform(test_preds_2[i])\n",
        "        for j,aspect in enumerate(aspects):\n",
        "            if pred_labels[j][0]!='None':\n",
        "                model_pred.append({'aspect':aspect,\n",
        "                                'sentiment':pred_labels[j][0],\n",
        "                                'target_entity':'LOCATION2'})\n",
        "        output_json_L1[index][\"opinions\"] += opinions\n",
        "        output_json_L1[index][\"model_pred\"] += model_pred\n",
        "    else:\n",
        "        sample = {}\n",
        "        sample[\"id\"] = int(test_ids_2[i])\n",
        "        sample[\"text\"] = test_texts_2[i]\n",
        "        opinions = []\n",
        "        true_labels = enc.inverse_transform(test_labels_2[i])\n",
        "        for j,aspect in enumerate(aspects):\n",
        "            if true_labels[j][0]!='None':\n",
        "                opinions.append({'aspect':aspect,\n",
        "                                'sentiment':true_labels[j][0],\n",
        "                                'target_entity':'LOCATION2'})\n",
        "        model_pred = []\n",
        "        pred_labels = enc.inverse_transform(test_preds_2[i])\n",
        "        for j,aspect in enumerate(aspects):\n",
        "            if pred_labels[j][0]!='None':\n",
        "                model_pred.append({'aspect':aspect,\n",
        "                                'sentiment':pred_labels[j][0],\n",
        "                                'target_entity':'LOCATION2'})\n",
        "        sample[\"opinions\"] = opinions\n",
        "        sample[\"model_pred\"] = model_pred\n",
        "\n",
        "        output_json_L1.append(sample)"
      ]
    },
    {
      "cell_type": "code",
      "execution_count": 35,
      "metadata": {
        "id": "v0WYade00lyP",
        "colab": {
          "base_uri": "https://localhost:8080/"
        },
        "outputId": "55e790f4-322a-4430-a8c7-34d499899b4a"
      },
      "outputs": [
        {
          "output_type": "execute_result",
          "data": {
            "text/plain": [
              "{'id': 1449,\n",
              " 'model_pred': [{'aspect': 'price',\n",
              "   'sentiment': 'Negative',\n",
              "   'target_entity': 'LOCATION1'},\n",
              "  {'aspect': 'price', 'sentiment': 'Negative', 'target_entity': 'LOCATION2'}],\n",
              " 'opinions': [{'aspect': 'price',\n",
              "   'sentiment': 'Negative',\n",
              "   'target_entity': 'LOCATION1'},\n",
              "  {'aspect': 'price', 'sentiment': 'Negative', 'target_entity': 'LOCATION2'}],\n",
              " 'text': \"If you're up to spend a lot, theres a lot of posh places across LOCATION2 and LOCATION1\"}"
            ]
          },
          "metadata": {},
          "execution_count": 35
        }
      ],
      "source": [
        "output_json_L1[-50]"
      ]
    },
    {
      "cell_type": "code",
      "execution_count": 36,
      "metadata": {
        "id": "JnYbjA-W0lyP"
      },
      "outputs": [],
      "source": [
        "with open(\"/content/drive/My Drive/absa_sentihood/preds.jsonl\", \"w\") as f:\n",
        "    json.dump(output_json_L1, f, indent = 3)"
      ]
    },
    {
      "cell_type": "code",
      "execution_count": null,
      "metadata": {
        "id": "JR0nZ5_L0lyQ"
      },
      "outputs": [],
      "source": [
        ""
      ]
    },
    {
      "cell_type": "markdown",
      "source": [
        "# Cconfusion Matrix"
      ],
      "metadata": {
        "id": "bRYTLK2BCzV6"
      }
    },
    {
      "cell_type": "code",
      "execution_count": 37,
      "metadata": {
        "id": "67tsDMru0lyQ"
      },
      "outputs": [],
      "source": [
        "def plot_confusion_matrix(y_true, y_pred, classes,\n",
        "                          normalize=False,\n",
        "                          title=None,\n",
        "                          cmap=plt.cm.Blues):\n",
        "    \"\"\"\n",
        "    This function prints and plots the confusion matrix.\n",
        "    Normalization can be applied by setting `normalize=True`.\n",
        "    Refered https://stackoverflow.com/questions/58766561/scikit-learn-sklearn-confusion-matrix-plot-for-more-than-3-classes \n",
        "    \"\"\"\n",
        "    if not title:\n",
        "        if normalize:\n",
        "            title = 'Normalized confusion matrix'\n",
        "        else:\n",
        "            title = 'Confusion matrix, without normalization'\n",
        "\n",
        "    # Compute confusion matrix\n",
        "    cm = confusion_matrix(y_true, y_pred)\n",
        "    # Only use the labels that appear in the data\n",
        "    # classes = classes[unique_labels(y_true, y_pred)]\n",
        "    if normalize:\n",
        "        cm = cm.astype('float') / cm.sum(axis=1)[:, np.newaxis]\n",
        "    else:\n",
        "        print('Confusion matrix, without normalization')\n",
        "\n",
        "    fig, ax = plt.subplots()\n",
        "    im = ax.imshow(cm, interpolation='nearest', cmap=cmap)\n",
        "    ax.figure.colorbar(im, ax=ax)\n",
        "    # We want to show all ticks...\n",
        "    ax.set(xticks=np.arange(cm.shape[1]),\n",
        "           yticks=np.arange(cm.shape[0]),\n",
        "           # ... and label them with the respective list entries\n",
        "           xticklabels=classes, yticklabels=classes,\n",
        "           title=title,\n",
        "           ylabel='True label',\n",
        "           xlabel='Predicted label')\n",
        "\n",
        "    # Rotate the tick labels and set their alignment.\n",
        "    plt.setp(ax.get_xticklabels(), rotation=45, ha=\"right\",\n",
        "             rotation_mode=\"anchor\")\n",
        "\n",
        "    # Loop over data dimensions and create text annotations.\n",
        "    fmt = '.2f' if normalize else 'd'\n",
        "    thresh = cm.max() / 2.\n",
        "    for i in range(cm.shape[0]):\n",
        "        for j in range(cm.shape[1]):\n",
        "            ax.text(j, i, format(cm[i, j], fmt),\n",
        "                    ha=\"center\", va=\"center\",\n",
        "                    color=\"white\" if cm[i, j] > thresh else \"black\")\n",
        "    fig.tight_layout()\n",
        "    # plt.xlim(-0.5, len(np.unique(y))-0.5)\n",
        "    # plt.ylim(len(np.unique(y))-0.5, -0.5)\n",
        "    return ax"
      ]
    },
    {
      "cell_type": "code",
      "source": [
        "from sklearn.metrics import confusion_matrix"
      ],
      "metadata": {
        "id": "fhBVZnOILatr"
      },
      "execution_count": 39,
      "outputs": []
    },
    {
      "cell_type": "markdown",
      "source": [
        "Overall performance for each aspect for Loc-1 and Loc-2 combined \n"
      ],
      "metadata": {
        "id": "0wsWBRctMhzn"
      }
    },
    {
      "cell_type": "code",
      "execution_count": 52,
      "metadata": {
        "id": "5GaDjlMy0lyQ",
        "colab": {
          "base_uri": "https://localhost:8080/",
          "height": 1000
        },
        "outputId": "356f437f-8ec7-47f3-d82a-55506e18221f"
      },
      "outputs": [
        {
          "output_type": "display_data",
          "data": {
            "image/png": "[encoded data removed]",
            "text/plain": [
              "<Figure size 432x288 with 2 Axes>"
            ]
          },
          "metadata": {
            "needs_background": "light"
          }
        },
        {
          "output_type": "display_data",
          "data": {
            "image/png": "[encoded data removed]",
            "text/plain": [
              "<Figure size 432x288 with 2 Axes>"
            ]
          },
          "metadata": {
            "needs_background": "light"
          }
        },
        {
          "output_type": "display_data",
          "data": {
            "image/png": "[encoded data removed]",
            "text/plain": [
              "<Figure size 432x288 with 2 Axes>"
            ]
          },
          "metadata": {
            "needs_background": "light"
          }
        },
        {
          "output_type": "display_data",
          "data": {
            "image/png": "[encoded data removed]",
            "text/plain": [
              "<Figure size 432x288 with 2 Axes>"
            ]
          },
          "metadata": {
            "needs_background": "light"
          }
        }
      ],
      "source": [
        "for i,aspect in enumerate(aspects):\n",
        "  y_true = enc.inverse_transform(np.concatenate([test_labels[:, i], test_labels_2[:, i]]))\n",
        "  y_pred = enc.inverse_transform(np.concatenate([test_preds[:, i], test_preds_2[:, i]]))\n",
        "\n",
        "  plot_confusion_matrix(y_true, y_pred, classes=np.array(['Negative','None','Positive']), normalize=True, title=aspect+': Normalized confusion matrix')\n",
        "  plt.show()"
      ]
    },
    {
      "cell_type": "code",
      "execution_count": null,
      "metadata": {
        "id": "L1eqcrctZCh7"
      },
      "outputs": [],
      "source": [
        ""
      ]
    },
    {
      "cell_type": "code",
      "execution_count": null,
      "metadata": {
        "id": "yGG33kFfZCgw"
      },
      "outputs": [],
      "source": [
        ""
      ]
    }
  ],
  "metadata": {
    "accelerator": "TPU",
    "colab": {
      "collapsed_sections": [],
      "name": "main.ipynb",
      "provenance": [],
      "toc_visible": true
    },
    "kernelspec": {
      "display_name": "Python 3",
      "name": "python3"
    },
    "language_info": {
      "name": "python"
    }
  },
  "nbformat": 4,
  "nbformat_minor": 0
}
